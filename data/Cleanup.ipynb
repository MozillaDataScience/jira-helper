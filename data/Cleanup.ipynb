{
 "cells": [
  {
   "cell_type": "code",
   "execution_count": null,
   "metadata": {},
   "outputs": [],
   "source": [
    "import json\n",
    "\n",
    "import pandas as pd\n",
    "\n",
    "# ../src/manage.py dumpdata > dump.json"
   ]
  },
  {
   "cell_type": "code",
   "execution_count": null,
   "metadata": {},
   "outputs": [],
   "source": [
    "with open(\"dump.json\", \"r\") as f:\n",
    "    dump = json.load(f)\n",
    "\n",
    "ticket_objects = [record for record in dump if record[\"model\"] == \"tickets.jiraticket\"]\n",
    "for ticket in ticket_objects:\n",
    "    ticket[\"fields\"][\"jira_ticket\"] = ticket[\"pk\"]\n",
    "tickets = pd.DataFrame(ticket[\"fields\"] for ticket in ticket_objects)[[\"jira_ticket\", \"assignee\", \"reporter\"]]\n",
    "tickets.head()"
   ]
  },
  {
   "cell_type": "code",
   "execution_count": null,
   "metadata": {},
   "outputs": [],
   "source": [
    "annotation_objects = [record for record in dump if record[\"model\"] == \"tickets.annotation\"]\n",
    "annotations = pd.DataFrame(annotation[\"fields\"] for annotation in annotation_objects)\n",
    "annotations.head()"
   ]
  },
  {
   "cell_type": "code",
   "execution_count": null,
   "metadata": {},
   "outputs": [],
   "source": [
    "annotated = tickets.merge(annotations, on=\"jira_ticket\", how=\"inner\").query(\"deliverable != '' and not no_deliverable\")\n",
    "annotated[\"Edit\"] = '=HYPERLINK(\"https://deliverables.wiki/tickets/' + annotated.jira_ticket + '\", \"Edit\")'\n",
    "annotated[\"deliverable\"] = '=HYPERLINK(\"' + annotated.deliverable + '\", \"Link\")'"
   ]
  },
  {
   "cell_type": "code",
   "execution_count": null,
   "metadata": {},
   "outputs": [],
   "source": [
    "annotated.head()"
   ]
  },
  {
   "cell_type": "code",
   "execution_count": null,
   "metadata": {},
   "outputs": [],
   "source": [
    "PRODUCT_CHOICES = dict([\n",
    "    (\"desktop\", \"Firefox desktop\"),\n",
    "    (\"fenix\", \"Firefox for Android (Fenix)\"),\n",
    "    (\"fennec\", \"Firefox for Android (Fennec)\"),\n",
    "    (\"fennec_ios\", \"Firefox for iOS\"),\n",
    "    (\"other\", \"Other\"),\n",
    "    (\"web\", \"Web properties\"),\n",
    "    (\"many\", \"Many products\"),\n",
    "])\n",
    "\n",
    "TOPICS = dict((\n",
    "    (\"accounts\", \"Accounts\"),\n",
    "    (\"activity_stream\", \"Activity Stream\"),\n",
    "    (\"addons\", \"Add-ons\"),\n",
    "    (\"bookmarks\", \"Bookmarks\"),\n",
    "    (\"devtools\", \"Devtools\"),\n",
    "    (\"download\", \"Download page\"),\n",
    "    (\"enterprise\", \"Enterprise\"),\n",
    "    (\"geo\", \"Geolocation\"),\n",
    "    (\"heartbeat\", \"Heartbeat\"),\n",
    "    (\"nav\", \"Navigation\"),\n",
    "    (\"newtab\", \"New tab\"),\n",
    "    (\"marketing\", \"Marketing campaign\"),\n",
    "    (\"onboarding\", \"Onboarding\"),\n",
    "    (\"pwmgr\", \"Password manager\"),\n",
    "    (\"payments\", \"Payments\"),\n",
    "    (\"percperf\", \"Perceived performance\"),\n",
    "    (\"perf\", \"Performance\"),\n",
    "    (\"platform\", \"Platform\"),\n",
    "    (\"pocket\", \"Pocket\"),\n",
    "    (\"privacy\", \"Privacy\"),\n",
    "    (\"search\", \"Search\"),\n",
    "    (\"security\", \"Security\"),\n",
    "    (\"services\", \"Services\"),\n",
    "    (\"tp\", \"Tracking Protection\"),\n",
    "    (\"vpn\", \"VPN\"),\n",
    "    (\"\", \"\")\n",
    "))\n",
    "\n",
    "ARTIFACTS = dict((\n",
    "    (\"dashboard\", \"Dashboard\"),\n",
    "    (\"experiment\", \"Experiment\"),\n",
    "    (\"investigation\", \"Investigation report\"),\n",
    "    (\"survey\", \"Survey\"),\n",
    "    (\"other\", \"Other\"),\n",
    "    (\"\", \"\")\n",
    "))\n",
    "\n",
    "AUTHORS = {\n",
    "    \"\": \" <>\",\n",
    "    \"bmiroglio@mozilla.com\": \"Ben Miroglio <bmiroglio@mozilla.com>\",\n",
    "    \"cdowhygelund@mozilla.com\": \"Corey Dow-Hygelund <cdowhygelund@mozilla.com>\",\n",
    "    \"dxu@mozilla.com\": \"Danica Xu <dxu@mozilla.com>\",\n",
    "    \"echo@mozilla.com\": \"Edward Cho <echo@mozilla.com>\",\n",
    "    \"ethompson@mozilla.com\": \"Emily Thompson <ethompson@mozilla.com>\",\n",
    "    \"flawrence@mozilla.com\": \"Felix Lawrence <flawrence@mozilla.com>\",\n",
    "    \"gkaberere@mozilla.com\": \"George Kaberere <gkaberere@mozilla.com>\",\n",
    "    \"jhollek@mozilla.com\": \"Julie Hollek <jhollek@mozilla.com>\",\n",
    "    \"jmccrosky@mozilla.com\": \"Jesse McCrosky <jmccrosky@mozilla.com>\",\n",
    "    \"ksiegler@mozilla.com\": \"Kimmy Siegler <ksiegler@mozilla.com>\",\n",
    "    \"loines@mozilla.com\": \"Leif Oines <loines@mozilla.com>\",\n",
    "    \"mgorlick@mozilla.com\": \"Marissa Gorlick <mgorlick@mozilla.com>\",\n",
    "    \"mgrant@mozilla.com\": \"Marshall Grant <mgrant@mozilla.com>\",\n",
    "    \"mmccorquodale@mozilla.com\": \"Megan McCorquodale <mmccorquodale@mozilla.com>\",\n",
    "    \"mreid@mozilla.com\": \"Mark Reid <mreid@mozilla.com>\",\n",
    "    \"rharter@mozilla.com\": \"Ryan Harter <rharter@mozilla.com>\",\n",
    "    \"sghose@mozilla.com\": \"Saptarshi Ghose <sghose@mozilla.com>\",\n",
    "    \"sguha@mozilla.com\": \"Saptarshi Guha <sguha@mozilla.com>\",\n",
    "    \"shong@mozilla.com\": \"Su-Young Hong <shong@mozilla.com>\",\n",
    "    \"tbrooks@mozilla.com\": \"Teon Brooks <tbrooks@mozilla.com>\",\n",
    "    \"tismith@mozilla.com\": \"Tim D. Smith <tdsmith@mozilla.com>\",\n",
    "    \"wbeard@mozilla.com\": \"Chris Beard <wbeard@mozilla.com>\",\n",
    "    \"xluo@mozilla.com\": \"Xuan Luo <xluo@mozilla.com>\",\n",
    "}\n",
    "\n",
    "column_map = {\n",
    "    \"jira_ticket\": \"Jira ticket\",\n",
    "    \"Edit\": \"Edit\",\n",
    "    \"completed_date\": \"Date\",\n",
    "    \"title\": \"Title\",\n",
    "    \"deliverable\": \"Link\",\n",
    "    \"abstract\": \"Summary\",\n",
    "    \"assignee\": \"Author\",\n",
    "    \"reporter\": \"Reporter\",\n",
    "    \"artifact\": \"Artifact\",\n",
    "    \"product\": \"Product\",\n",
    "    \"topic\": \"Topics\",\n",
    "    \"tags\": \"Tags\",\n",
    "}"
   ]
  },
  {
   "cell_type": "code",
   "execution_count": null,
   "metadata": {},
   "outputs": [],
   "source": [
    "spreadsheet = annotated.rename(columns=column_map)[column_map.values()]\n",
    "spreadsheet[\"Topics\"] = spreadsheet[\"Topics\"].str.split(\",\").map(lambda x: (TOPICS[t] for t in x)).str.join(\", \")\n",
    "spreadsheet[\"Artifact\"] = spreadsheet[\"Artifact\"].map(lambda x: ARTIFACTS[x])\n",
    "spreadsheet[\"Product\"] = spreadsheet[\"Product\"].map(lambda x: PRODUCT_CHOICES[x])\n",
    "spreadsheet[\"Author\"] = spreadsheet[\"Author\"].map(lambda x: AUTHORS[x])"
   ]
  },
  {
   "cell_type": "code",
   "execution_count": null,
   "metadata": {},
   "outputs": [],
   "source": [
    "spreadsheet.head()"
   ]
  },
  {
   "cell_type": "code",
   "execution_count": null,
   "metadata": {},
   "outputs": [],
   "source": [
    "spreadsheet.to_csv(\"spreadsheet.csv\", index=False)"
   ]
  }
 ],
 "metadata": {
  "kernelspec": {
   "display_name": "Python 3",
   "language": "python",
   "name": "python3"
  },
  "language_info": {
   "codemirror_mode": {
    "name": "ipython",
    "version": 3
   },
   "file_extension": ".py",
   "mimetype": "text/x-python",
   "name": "python",
   "nbconvert_exporter": "python",
   "pygments_lexer": "ipython3",
   "version": "3.8.0"
  }
 },
 "nbformat": 4,
 "nbformat_minor": 4
}
